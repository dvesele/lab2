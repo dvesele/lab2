{
  "metadata": {
    "kernelspec": {
      "name": "python",
      "display_name": "Python (Pyodide)",
      "language": "python"
    },
    "language_info": {
      "codemirror_mode": {
        "name": "python",
        "version": 3
      },
      "file_extension": ".py",
      "mimetype": "text/x-python",
      "name": "python",
      "nbconvert_exporter": "python",
      "pygments_lexer": "ipython3",
      "version": "3.8"
    }
  },
  "nbformat_minor": 5,
  "nbformat": 4,
  "cells": [
    {
      "id": "64d44da9-558f-4634-9de8-de0f46f93cfe",
      "cell_type": "markdown",
      "source": "## Часть 1: Введение в Pandas\n\nPandas - это библиотека Python для работы с данными. Она предоставляет мощные инструменты для анализа и манипуляции данными.\n\n### Установка Pandas\n\nДля начала убедитесь, что у вас установлена библиотека Pandas. Если ее нет, установите ее с помощью команды:\n",
      "metadata": {}
    },
    {
      "id": "7484df51-b002-414c-ae42-75a2df57c78d",
      "cell_type": "code",
      "source": "import micropip\nawait micropip.install('pandas')",
      "metadata": {
        "trusted": true
      },
      "outputs": [],
      "execution_count": 4
    },
    {
      "id": "4b655e29-c3a5-4117-9860-2d6b9af62ac1",
      "cell_type": "markdown",
      "source": "## Импорт библиотеки\nДавайте начнем с импорта библиотеки Pandas:",
      "metadata": {}
    },
    {
      "id": "bfc3346f-3843-4aff-aec0-54321b9774f0",
      "cell_type": "code",
      "source": "import pandas as pd",
      "metadata": {
        "tags": [],
        "trusted": true
      },
      "outputs": [],
      "execution_count": 5
    },
    {
      "id": "ea8530e9-c179-48c1-8043-ff87f415ee67",
      "cell_type": "markdown",
      "source": "## Часть 2: Работа с данными\n### Чтение данных\nМы будем использовать датасет Titanic. Давайте прочитаем данные из CSV файла.",
      "metadata": {}
    },
    {
      "id": "fa5deec6-c85e-4d88-89df-bea7d75fcbba",
      "cell_type": "code",
      "source": "titanic = pd.read_csv('titanic.csv')",
      "metadata": {
        "trusted": true
      },
      "outputs": [],
      "execution_count": 7
    },
    {
      "id": "07dfd488-4960-495e-80d8-9cf5903449b6",
      "cell_type": "markdown",
      "source": "### Предпросмотр данных\nДля первого ознакомления с данными давайте выведем первые несколько строк.",
      "metadata": {}
    },
    {
      "id": "216e104c-259f-4ecd-9cd4-40362f61ca4e",
      "cell_type": "code",
      "source": "print(titanic.head())",
      "metadata": {
        "trusted": true
      },
      "outputs": [
        {
          "name": "stdout",
          "output_type": "stream",
          "text": "   PassengerId  Survived  Pclass  \\\n0            1         0       3   \n1            2         1       1   \n2            3         1       3   \n3            4         1       1   \n4            5         0       3   \n\n                                                Name     Sex   Age  SibSp  \\\n0                            Braund, Mr. Owen Harris    male  22.0      1   \n1  Cumings, Mrs. John Bradley (Florence Briggs Th...  female  38.0      1   \n2                             Heikkinen, Miss. Laina  female  26.0      0   \n3       Futrelle, Mrs. Jacques Heath (Lily May Peel)  female  35.0      1   \n4                           Allen, Mr. William Henry    male  35.0      0   \n\n   Parch            Ticket     Fare Cabin Embarked  \n0      0         A/5 21171   7.2500   NaN        S  \n1      0          PC 17599  71.2833   C85        C  \n2      0  STON/O2. 3101282   7.9250   NaN        S  \n3      0            113803  53.1000  C123        S  \n4      0            373450   8.0500   NaN        S  \n"
        }
      ],
      "execution_count": 8
    },
    {
      "id": "b7ba5f57-07e1-4c0f-9b55-9d78638ee2cc",
      "cell_type": "markdown",
      "source": "### Информация о данных\nЧтобы получить общую информацию о данных, воспользуйтесь методом .info().",
      "metadata": {}
    },
    {
      "id": "43650b4f-f3e7-4480-b874-b5552f564383",
      "cell_type": "code",
      "source": "print(titanic.info())",
      "metadata": {},
      "outputs": [],
      "execution_count": null
    },
    {
      "id": "a6857118-a82e-4586-a933-4eb0df9cb74e",
      "cell_type": "markdown",
      "source": "### Работа с NaN\nЧасто данные содержат пропущенные значения, которые представляются как NaN (Not a Number). Pandas предоставляет удобные методы для работы с ними.\n\nПроверка на наличие NaN. Методы fillna и dropna возвращают новые Dataframe, проверьте нет ли в них NaN",
      "metadata": {}
    },
    {
      "id": "f7910fde-24f7-4cf8-991d-01f08bc45b63",
      "cell_type": "code",
      "source": "print(titanic.isna())",
      "metadata": {
        "tags": [],
        "trusted": true
      },
      "outputs": [
        {
          "name": "stdout",
          "output_type": "stream",
          "text": "     PassengerId  Survived  Pclass   Name    Sex    Age  SibSp  Parch  Ticket  \\\n0          False     False   False  False  False  False  False  False   False   \n1          False     False   False  False  False  False  False  False   False   \n2          False     False   False  False  False  False  False  False   False   \n3          False     False   False  False  False  False  False  False   False   \n4          False     False   False  False  False  False  False  False   False   \n..           ...       ...     ...    ...    ...    ...    ...    ...     ...   \n886        False     False   False  False  False  False  False  False   False   \n887        False     False   False  False  False  False  False  False   False   \n888        False     False   False  False  False   True  False  False   False   \n889        False     False   False  False  False  False  False  False   False   \n890        False     False   False  False  False  False  False  False   False   \n\n      Fare  Cabin  Embarked  \n0    False   True     False  \n1    False  False     False  \n2    False   True     False  \n3    False  False     False  \n4    False   True     False  \n..     ...    ...       ...  \n886  False   True     False  \n887  False  False     False  \n888  False   True     False  \n889  False  False     False  \n890  False   True     False  \n\n[891 rows x 12 columns]\n"
        }
      ],
      "execution_count": 9
    },
    {
      "id": "1dadeaf7-e214-4552-b054-8e4a03714f72",
      "cell_type": "markdown",
      "source": "Заполнение NaN",
      "metadata": {}
    },
    {
      "id": "7d901187-75a9-497e-8774-6e0dde584197",
      "cell_type": "code",
      "source": "titanic = titanic.fillna(0, limit=1)",
      "metadata": {
        "trusted": true
      },
      "outputs": [],
      "execution_count": 10
    },
    {
      "id": "6f32fddb-ec60-456b-8958-5c81b0357d49",
      "cell_type": "markdown",
      "source": "Удаление строк с NaN",
      "metadata": {}
    },
    {
      "id": "4d188deb-0818-4b01-b3a5-9d20d2166d10",
      "cell_type": "code",
      "source": "titanic = titanic.dropna()\nprint(titanic.head())",
      "metadata": {
        "tags": [],
        "trusted": true
      },
      "outputs": [
        {
          "name": "stdout",
          "output_type": "stream",
          "text": "    PassengerId  Survived  Pclass  \\\n0             1         0       3   \n1             2         1       1   \n3             4         1       1   \n6             7         0       1   \n10           11         1       3   \n\n                                                 Name     Sex   Age  SibSp  \\\n0                             Braund, Mr. Owen Harris    male  22.0      1   \n1   Cumings, Mrs. John Bradley (Florence Briggs Th...  female  38.0      1   \n3        Futrelle, Mrs. Jacques Heath (Lily May Peel)  female  35.0      1   \n6                             McCarthy, Mr. Timothy J    male  54.0      0   \n10                    Sandstrom, Miss. Marguerite Rut  female   4.0      1   \n\n    Parch     Ticket     Fare Cabin Embarked  \n0       0  A/5 21171   7.2500     0        S  \n1       0   PC 17599  71.2833   C85        C  \n3       0     113803  53.1000  C123        S  \n6       0      17463  51.8625   E46        S  \n10      1    PP 9549  16.7000    G6        S  \n"
        }
      ],
      "execution_count": 11
    },
    {
      "id": "7a4ff131-1593-4cd2-b2bc-e0ddb2442d3b",
      "cell_type": "markdown",
      "source": "## Часть 3: Обработка DataFrame\n### Выбор данных\nPandas позволяет выбирать данные по индексам, меткам столбцов и условиям.",
      "metadata": {}
    },
    {
      "id": "d11f6114-ce4b-4e71-afec-adf1d8c1ec6e",
      "cell_type": "code",
      "source": "\n# Выбор столбца по метке\n# Используйте синтаксис DataFrame['название_столбца']\n# write your code here\ntitanic['Name']\n\n# Выбор нескольких столбцов\n# Используйте синтаксис DataFrame[['столбец_1', 'столбец_2']]\n# write your code here\ntitanic[['PassengerId', 'Name']]\n\n# Выбор строк по индексу\n# Используйте метод .loc[]\n# write your code here\ntitanic.loc[3:10]\n\n# Выбор строк и столбцов по условию\n# Используя логические операции, выберите мужчин старше 30\n# write your code here\ntitanic[(titanic['Sex'] == 'male') & (titanic['Age'] > 30)]\n\n",
      "metadata": {
        "tags": [],
        "trusted": true
      },
      "outputs": [
        {
          "execution_count": 12,
          "output_type": "execute_result",
          "data": {
            "text/plain": "     PassengerId  Survived  Pclass                                  Name  \\\n6              7         0       1               McCarthy, Mr. Timothy J   \n21            22         1       2                 Beesley, Mr. Lawrence   \n54            55         0       1        Ostby, Mr. Engelhart Cornelius   \n62            63         0       1           Harris, Mr. Henry Birkhardt   \n92            93         0       1           Chaffee, Mr. Herbert Fuller   \n..           ...       ...     ...                                   ...   \n789          790         0       1              Guggenheim, Mr. Benjamin   \n806          807         0       1                Andrews, Mr. Thomas Jr   \n857          858         1       1                Daly, Mr. Peter Denis    \n867          868         0       1  Roebling, Mr. Washington Augustus II   \n872          873         0       1              Carlsson, Mr. Frans Olof   \n\n      Sex   Age  SibSp  Parch       Ticket     Fare        Cabin Embarked  \n6    male  54.0      0      0        17463  51.8625          E46        S  \n21   male  34.0      0      0       248698  13.0000          D56        S  \n54   male  65.0      0      1       113509  61.9792          B30        C  \n62   male  45.0      1      0        36973  83.4750          C83        S  \n92   male  46.0      1      0  W.E.P. 5734  61.1750          E31        S  \n..    ...   ...    ...    ...          ...      ...          ...      ...  \n789  male  46.0      0      0     PC 17593  79.2000      B82 B84        C  \n806  male  39.0      0      0       112050   0.0000          A36        S  \n857  male  51.0      0      0       113055  26.5500          E17        S  \n867  male  31.0      0      0     PC 17590  50.4958          A24        S  \n872  male  33.0      0      0          695   5.0000  B51 B53 B55        S  \n\n[67 rows x 12 columns]",
            "text/html": "<div>\n<style scoped>\n    .dataframe tbody tr th:only-of-type {\n        vertical-align: middle;\n    }\n\n    .dataframe tbody tr th {\n        vertical-align: top;\n    }\n\n    .dataframe thead th {\n        text-align: right;\n    }\n</style>\n<table border=\"1\" class=\"dataframe\">\n  <thead>\n    <tr style=\"text-align: right;\">\n      <th></th>\n      <th>PassengerId</th>\n      <th>Survived</th>\n      <th>Pclass</th>\n      <th>Name</th>\n      <th>Sex</th>\n      <th>Age</th>\n      <th>SibSp</th>\n      <th>Parch</th>\n      <th>Ticket</th>\n      <th>Fare</th>\n      <th>Cabin</th>\n      <th>Embarked</th>\n    </tr>\n  </thead>\n  <tbody>\n    <tr>\n      <th>6</th>\n      <td>7</td>\n      <td>0</td>\n      <td>1</td>\n      <td>McCarthy, Mr. Timothy J</td>\n      <td>male</td>\n      <td>54.0</td>\n      <td>0</td>\n      <td>0</td>\n      <td>17463</td>\n      <td>51.8625</td>\n      <td>E46</td>\n      <td>S</td>\n    </tr>\n    <tr>\n      <th>21</th>\n      <td>22</td>\n      <td>1</td>\n      <td>2</td>\n      <td>Beesley, Mr. Lawrence</td>\n      <td>male</td>\n      <td>34.0</td>\n      <td>0</td>\n      <td>0</td>\n      <td>248698</td>\n      <td>13.0000</td>\n      <td>D56</td>\n      <td>S</td>\n    </tr>\n    <tr>\n      <th>54</th>\n      <td>55</td>\n      <td>0</td>\n      <td>1</td>\n      <td>Ostby, Mr. Engelhart Cornelius</td>\n      <td>male</td>\n      <td>65.0</td>\n      <td>0</td>\n      <td>1</td>\n      <td>113509</td>\n      <td>61.9792</td>\n      <td>B30</td>\n      <td>C</td>\n    </tr>\n    <tr>\n      <th>62</th>\n      <td>63</td>\n      <td>0</td>\n      <td>1</td>\n      <td>Harris, Mr. Henry Birkhardt</td>\n      <td>male</td>\n      <td>45.0</td>\n      <td>1</td>\n      <td>0</td>\n      <td>36973</td>\n      <td>83.4750</td>\n      <td>C83</td>\n      <td>S</td>\n    </tr>\n    <tr>\n      <th>92</th>\n      <td>93</td>\n      <td>0</td>\n      <td>1</td>\n      <td>Chaffee, Mr. Herbert Fuller</td>\n      <td>male</td>\n      <td>46.0</td>\n      <td>1</td>\n      <td>0</td>\n      <td>W.E.P. 5734</td>\n      <td>61.1750</td>\n      <td>E31</td>\n      <td>S</td>\n    </tr>\n    <tr>\n      <th>...</th>\n      <td>...</td>\n      <td>...</td>\n      <td>...</td>\n      <td>...</td>\n      <td>...</td>\n      <td>...</td>\n      <td>...</td>\n      <td>...</td>\n      <td>...</td>\n      <td>...</td>\n      <td>...</td>\n      <td>...</td>\n    </tr>\n    <tr>\n      <th>789</th>\n      <td>790</td>\n      <td>0</td>\n      <td>1</td>\n      <td>Guggenheim, Mr. Benjamin</td>\n      <td>male</td>\n      <td>46.0</td>\n      <td>0</td>\n      <td>0</td>\n      <td>PC 17593</td>\n      <td>79.2000</td>\n      <td>B82 B84</td>\n      <td>C</td>\n    </tr>\n    <tr>\n      <th>806</th>\n      <td>807</td>\n      <td>0</td>\n      <td>1</td>\n      <td>Andrews, Mr. Thomas Jr</td>\n      <td>male</td>\n      <td>39.0</td>\n      <td>0</td>\n      <td>0</td>\n      <td>112050</td>\n      <td>0.0000</td>\n      <td>A36</td>\n      <td>S</td>\n    </tr>\n    <tr>\n      <th>857</th>\n      <td>858</td>\n      <td>1</td>\n      <td>1</td>\n      <td>Daly, Mr. Peter Denis</td>\n      <td>male</td>\n      <td>51.0</td>\n      <td>0</td>\n      <td>0</td>\n      <td>113055</td>\n      <td>26.5500</td>\n      <td>E17</td>\n      <td>S</td>\n    </tr>\n    <tr>\n      <th>867</th>\n      <td>868</td>\n      <td>0</td>\n      <td>1</td>\n      <td>Roebling, Mr. Washington Augustus II</td>\n      <td>male</td>\n      <td>31.0</td>\n      <td>0</td>\n      <td>0</td>\n      <td>PC 17590</td>\n      <td>50.4958</td>\n      <td>A24</td>\n      <td>S</td>\n    </tr>\n    <tr>\n      <th>872</th>\n      <td>873</td>\n      <td>0</td>\n      <td>1</td>\n      <td>Carlsson, Mr. Frans Olof</td>\n      <td>male</td>\n      <td>33.0</td>\n      <td>0</td>\n      <td>0</td>\n      <td>695</td>\n      <td>5.0000</td>\n      <td>B51 B53 B55</td>\n      <td>S</td>\n    </tr>\n  </tbody>\n</table>\n<p>67 rows × 12 columns</p>\n</div>"
          },
          "metadata": {}
        }
      ],
      "execution_count": 12
    },
    {
      "id": "f3102de8-d2fd-4593-bf26-721316ae51e9",
      "cell_type": "markdown",
      "source": "### Сортировка данных\nСортировка данных по значениям столбцов.",
      "metadata": {}
    },
    {
      "id": "de5e850c-e920-4ae4-aadb-3f1953438b09",
      "cell_type": "code",
      "source": "titanic.sort_values(by=['Age'])",
      "metadata": {
        "tags": [],
        "trusted": true
      },
      "outputs": [
        {
          "execution_count": 13,
          "output_type": "execute_result",
          "data": {
            "text/plain": "     PassengerId  Survived  Pclass                                  Name  \\\n305          306         1       1        Allison, Master. Hudson Trevor   \n183          184         1       2             Becker, Master. Richard F   \n297          298         0       1          Allison, Miss. Helen Loraine   \n340          341         1       2        Navratil, Master. Edmond Roger   \n205          206         0       3            Strom, Miss. Telma Matilda   \n..           ...       ...     ...                                   ...   \n456          457         0       1             Millet, Mr. Francis Davis   \n54            55         0       1        Ostby, Mr. Engelhart Cornelius   \n745          746         0       1          Crosby, Capt. Edward Gifford   \n96            97         0       1             Goldschmidt, Mr. George B   \n630          631         1       1  Barkworth, Mr. Algernon Henry Wilson   \n\n        Sex    Age  SibSp  Parch     Ticket      Fare    Cabin Embarked  \n305    male   0.92      1      2     113781  151.5500  C22 C26        S  \n183    male   1.00      2      1     230136   39.0000       F4        S  \n297  female   2.00      1      2     113781  151.5500  C22 C26        S  \n340    male   2.00      1      1     230080   26.0000       F2        S  \n205  female   2.00      0      1     347054   10.4625       G6        S  \n..      ...    ...    ...    ...        ...       ...      ...      ...  \n456    male  65.00      0      0      13509   26.5500      E38        S  \n54     male  65.00      0      1     113509   61.9792      B30        C  \n745    male  70.00      1      1  WE/P 5735   71.0000      B22        S  \n96     male  71.00      0      0   PC 17754   34.6542       A5        C  \n630    male  80.00      0      0      27042   30.0000      A23        S  \n\n[185 rows x 12 columns]",
            "text/html": "<div>\n<style scoped>\n    .dataframe tbody tr th:only-of-type {\n        vertical-align: middle;\n    }\n\n    .dataframe tbody tr th {\n        vertical-align: top;\n    }\n\n    .dataframe thead th {\n        text-align: right;\n    }\n</style>\n<table border=\"1\" class=\"dataframe\">\n  <thead>\n    <tr style=\"text-align: right;\">\n      <th></th>\n      <th>PassengerId</th>\n      <th>Survived</th>\n      <th>Pclass</th>\n      <th>Name</th>\n      <th>Sex</th>\n      <th>Age</th>\n      <th>SibSp</th>\n      <th>Parch</th>\n      <th>Ticket</th>\n      <th>Fare</th>\n      <th>Cabin</th>\n      <th>Embarked</th>\n    </tr>\n  </thead>\n  <tbody>\n    <tr>\n      <th>305</th>\n      <td>306</td>\n      <td>1</td>\n      <td>1</td>\n      <td>Allison, Master. Hudson Trevor</td>\n      <td>male</td>\n      <td>0.92</td>\n      <td>1</td>\n      <td>2</td>\n      <td>113781</td>\n      <td>151.5500</td>\n      <td>C22 C26</td>\n      <td>S</td>\n    </tr>\n    <tr>\n      <th>183</th>\n      <td>184</td>\n      <td>1</td>\n      <td>2</td>\n      <td>Becker, Master. Richard F</td>\n      <td>male</td>\n      <td>1.00</td>\n      <td>2</td>\n      <td>1</td>\n      <td>230136</td>\n      <td>39.0000</td>\n      <td>F4</td>\n      <td>S</td>\n    </tr>\n    <tr>\n      <th>297</th>\n      <td>298</td>\n      <td>0</td>\n      <td>1</td>\n      <td>Allison, Miss. Helen Loraine</td>\n      <td>female</td>\n      <td>2.00</td>\n      <td>1</td>\n      <td>2</td>\n      <td>113781</td>\n      <td>151.5500</td>\n      <td>C22 C26</td>\n      <td>S</td>\n    </tr>\n    <tr>\n      <th>340</th>\n      <td>341</td>\n      <td>1</td>\n      <td>2</td>\n      <td>Navratil, Master. Edmond Roger</td>\n      <td>male</td>\n      <td>2.00</td>\n      <td>1</td>\n      <td>1</td>\n      <td>230080</td>\n      <td>26.0000</td>\n      <td>F2</td>\n      <td>S</td>\n    </tr>\n    <tr>\n      <th>205</th>\n      <td>206</td>\n      <td>0</td>\n      <td>3</td>\n      <td>Strom, Miss. Telma Matilda</td>\n      <td>female</td>\n      <td>2.00</td>\n      <td>0</td>\n      <td>1</td>\n      <td>347054</td>\n      <td>10.4625</td>\n      <td>G6</td>\n      <td>S</td>\n    </tr>\n    <tr>\n      <th>...</th>\n      <td>...</td>\n      <td>...</td>\n      <td>...</td>\n      <td>...</td>\n      <td>...</td>\n      <td>...</td>\n      <td>...</td>\n      <td>...</td>\n      <td>...</td>\n      <td>...</td>\n      <td>...</td>\n      <td>...</td>\n    </tr>\n    <tr>\n      <th>456</th>\n      <td>457</td>\n      <td>0</td>\n      <td>1</td>\n      <td>Millet, Mr. Francis Davis</td>\n      <td>male</td>\n      <td>65.00</td>\n      <td>0</td>\n      <td>0</td>\n      <td>13509</td>\n      <td>26.5500</td>\n      <td>E38</td>\n      <td>S</td>\n    </tr>\n    <tr>\n      <th>54</th>\n      <td>55</td>\n      <td>0</td>\n      <td>1</td>\n      <td>Ostby, Mr. Engelhart Cornelius</td>\n      <td>male</td>\n      <td>65.00</td>\n      <td>0</td>\n      <td>1</td>\n      <td>113509</td>\n      <td>61.9792</td>\n      <td>B30</td>\n      <td>C</td>\n    </tr>\n    <tr>\n      <th>745</th>\n      <td>746</td>\n      <td>0</td>\n      <td>1</td>\n      <td>Crosby, Capt. Edward Gifford</td>\n      <td>male</td>\n      <td>70.00</td>\n      <td>1</td>\n      <td>1</td>\n      <td>WE/P 5735</td>\n      <td>71.0000</td>\n      <td>B22</td>\n      <td>S</td>\n    </tr>\n    <tr>\n      <th>96</th>\n      <td>97</td>\n      <td>0</td>\n      <td>1</td>\n      <td>Goldschmidt, Mr. George B</td>\n      <td>male</td>\n      <td>71.00</td>\n      <td>0</td>\n      <td>0</td>\n      <td>PC 17754</td>\n      <td>34.6542</td>\n      <td>A5</td>\n      <td>C</td>\n    </tr>\n    <tr>\n      <th>630</th>\n      <td>631</td>\n      <td>1</td>\n      <td>1</td>\n      <td>Barkworth, Mr. Algernon Henry Wilson</td>\n      <td>male</td>\n      <td>80.00</td>\n      <td>0</td>\n      <td>0</td>\n      <td>27042</td>\n      <td>30.0000</td>\n      <td>A23</td>\n      <td>S</td>\n    </tr>\n  </tbody>\n</table>\n<p>185 rows × 12 columns</p>\n</div>"
          },
          "metadata": {}
        }
      ],
      "execution_count": 13
    },
    {
      "id": "eab3cd85-5e96-4228-8834-9ef53b93689a",
      "cell_type": "markdown",
      "source": "### Группировка данных\nPandas также позволяет группировать данные и выполнять агрегирующие операции.",
      "metadata": {}
    },
    {
      "id": "25ced901-0482-49a8-8c12-d192e84e3fb3",
      "cell_type": "code",
      "source": "# Найдите долю выживших среди всех PClass\n# Используйте метод .groupby()\n# write your code here  \n\n\ntitanic.groupby('Pclass')['Survived'].mean()\n",
      "metadata": {
        "tags": [],
        "trusted": true
      },
      "outputs": [
        {
          "execution_count": 15,
          "output_type": "execute_result",
          "data": {
            "text/plain": "Pclass\n1    0.672956\n2    0.800000\n3    0.454545\nName: Survived, dtype: float64"
          },
          "metadata": {}
        }
      ],
      "execution_count": 15
    },
    {
      "id": "d0355db7-7bf9-46d1-ad51-5f2eddc42501",
      "cell_type": "markdown",
      "source": "## Часть 4: Задания для практики\nПрочитайте данные из файла 'titanic.csv'.\nПроверьте, есть ли пропущенные значения в данных и заполните их нулями.\nВыведите первые 10 строк данных.\nВыберите только те строки, где значение в столбце 'Age' больше 30.\nОтсортируйте данные по столбцу 'Fare' в порядке убывания.\nСгруппируйте данные по столбцу 'Pclass' и вычислите средний возраст ('Age') для каждого класса.",
      "metadata": {}
    },
    {
      "id": "a1b4deaa-cd06-41b3-8084-5c2d3a867811",
      "cell_type": "code",
      "source": "data = pd.read_csv('titanic.csv')",
      "metadata": {
        "trusted": true
      },
      "outputs": [],
      "execution_count": 16
    },
    {
      "id": "6fcc6d93-cbfe-493d-8a77-4ec47aa44b7f",
      "cell_type": "code",
      "source": "data.isna()",
      "metadata": {
        "trusted": true
      },
      "outputs": [
        {
          "execution_count": 17,
          "output_type": "execute_result",
          "data": {
            "text/plain": "     PassengerId  Survived  Pclass   Name    Sex    Age  SibSp  Parch  Ticket  \\\n0          False     False   False  False  False  False  False  False   False   \n1          False     False   False  False  False  False  False  False   False   \n2          False     False   False  False  False  False  False  False   False   \n3          False     False   False  False  False  False  False  False   False   \n4          False     False   False  False  False  False  False  False   False   \n..           ...       ...     ...    ...    ...    ...    ...    ...     ...   \n886        False     False   False  False  False  False  False  False   False   \n887        False     False   False  False  False  False  False  False   False   \n888        False     False   False  False  False   True  False  False   False   \n889        False     False   False  False  False  False  False  False   False   \n890        False     False   False  False  False  False  False  False   False   \n\n      Fare  Cabin  Embarked  \n0    False   True     False  \n1    False  False     False  \n2    False   True     False  \n3    False  False     False  \n4    False   True     False  \n..     ...    ...       ...  \n886  False   True     False  \n887  False  False     False  \n888  False   True     False  \n889  False  False     False  \n890  False   True     False  \n\n[891 rows x 12 columns]",
            "text/html": "<div>\n<style scoped>\n    .dataframe tbody tr th:only-of-type {\n        vertical-align: middle;\n    }\n\n    .dataframe tbody tr th {\n        vertical-align: top;\n    }\n\n    .dataframe thead th {\n        text-align: right;\n    }\n</style>\n<table border=\"1\" class=\"dataframe\">\n  <thead>\n    <tr style=\"text-align: right;\">\n      <th></th>\n      <th>PassengerId</th>\n      <th>Survived</th>\n      <th>Pclass</th>\n      <th>Name</th>\n      <th>Sex</th>\n      <th>Age</th>\n      <th>SibSp</th>\n      <th>Parch</th>\n      <th>Ticket</th>\n      <th>Fare</th>\n      <th>Cabin</th>\n      <th>Embarked</th>\n    </tr>\n  </thead>\n  <tbody>\n    <tr>\n      <th>0</th>\n      <td>False</td>\n      <td>False</td>\n      <td>False</td>\n      <td>False</td>\n      <td>False</td>\n      <td>False</td>\n      <td>False</td>\n      <td>False</td>\n      <td>False</td>\n      <td>False</td>\n      <td>True</td>\n      <td>False</td>\n    </tr>\n    <tr>\n      <th>1</th>\n      <td>False</td>\n      <td>False</td>\n      <td>False</td>\n      <td>False</td>\n      <td>False</td>\n      <td>False</td>\n      <td>False</td>\n      <td>False</td>\n      <td>False</td>\n      <td>False</td>\n      <td>False</td>\n      <td>False</td>\n    </tr>\n    <tr>\n      <th>2</th>\n      <td>False</td>\n      <td>False</td>\n      <td>False</td>\n      <td>False</td>\n      <td>False</td>\n      <td>False</td>\n      <td>False</td>\n      <td>False</td>\n      <td>False</td>\n      <td>False</td>\n      <td>True</td>\n      <td>False</td>\n    </tr>\n    <tr>\n      <th>3</th>\n      <td>False</td>\n      <td>False</td>\n      <td>False</td>\n      <td>False</td>\n      <td>False</td>\n      <td>False</td>\n      <td>False</td>\n      <td>False</td>\n      <td>False</td>\n      <td>False</td>\n      <td>False</td>\n      <td>False</td>\n    </tr>\n    <tr>\n      <th>4</th>\n      <td>False</td>\n      <td>False</td>\n      <td>False</td>\n      <td>False</td>\n      <td>False</td>\n      <td>False</td>\n      <td>False</td>\n      <td>False</td>\n      <td>False</td>\n      <td>False</td>\n      <td>True</td>\n      <td>False</td>\n    </tr>\n    <tr>\n      <th>...</th>\n      <td>...</td>\n      <td>...</td>\n      <td>...</td>\n      <td>...</td>\n      <td>...</td>\n      <td>...</td>\n      <td>...</td>\n      <td>...</td>\n      <td>...</td>\n      <td>...</td>\n      <td>...</td>\n      <td>...</td>\n    </tr>\n    <tr>\n      <th>886</th>\n      <td>False</td>\n      <td>False</td>\n      <td>False</td>\n      <td>False</td>\n      <td>False</td>\n      <td>False</td>\n      <td>False</td>\n      <td>False</td>\n      <td>False</td>\n      <td>False</td>\n      <td>True</td>\n      <td>False</td>\n    </tr>\n    <tr>\n      <th>887</th>\n      <td>False</td>\n      <td>False</td>\n      <td>False</td>\n      <td>False</td>\n      <td>False</td>\n      <td>False</td>\n      <td>False</td>\n      <td>False</td>\n      <td>False</td>\n      <td>False</td>\n      <td>False</td>\n      <td>False</td>\n    </tr>\n    <tr>\n      <th>888</th>\n      <td>False</td>\n      <td>False</td>\n      <td>False</td>\n      <td>False</td>\n      <td>False</td>\n      <td>True</td>\n      <td>False</td>\n      <td>False</td>\n      <td>False</td>\n      <td>False</td>\n      <td>True</td>\n      <td>False</td>\n    </tr>\n    <tr>\n      <th>889</th>\n      <td>False</td>\n      <td>False</td>\n      <td>False</td>\n      <td>False</td>\n      <td>False</td>\n      <td>False</td>\n      <td>False</td>\n      <td>False</td>\n      <td>False</td>\n      <td>False</td>\n      <td>False</td>\n      <td>False</td>\n    </tr>\n    <tr>\n      <th>890</th>\n      <td>False</td>\n      <td>False</td>\n      <td>False</td>\n      <td>False</td>\n      <td>False</td>\n      <td>False</td>\n      <td>False</td>\n      <td>False</td>\n      <td>False</td>\n      <td>False</td>\n      <td>True</td>\n      <td>False</td>\n    </tr>\n  </tbody>\n</table>\n<p>891 rows × 12 columns</p>\n</div>"
          },
          "metadata": {}
        }
      ],
      "execution_count": 17
    },
    {
      "id": "837f515b-daaf-47c8-8edc-72159330f168",
      "cell_type": "code",
      "source": "data = data.fillna(0)\ndata",
      "metadata": {
        "trusted": true
      },
      "outputs": [
        {
          "execution_count": 18,
          "output_type": "execute_result",
          "data": {
            "text/plain": "     PassengerId  Survived  Pclass  \\\n0              1         0       3   \n1              2         1       1   \n2              3         1       3   \n3              4         1       1   \n4              5         0       3   \n..           ...       ...     ...   \n886          887         0       2   \n887          888         1       1   \n888          889         0       3   \n889          890         1       1   \n890          891         0       3   \n\n                                                  Name     Sex   Age  SibSp  \\\n0                              Braund, Mr. Owen Harris    male  22.0      1   \n1    Cumings, Mrs. John Bradley (Florence Briggs Th...  female  38.0      1   \n2                               Heikkinen, Miss. Laina  female  26.0      0   \n3         Futrelle, Mrs. Jacques Heath (Lily May Peel)  female  35.0      1   \n4                             Allen, Mr. William Henry    male  35.0      0   \n..                                                 ...     ...   ...    ...   \n886                              Montvila, Rev. Juozas    male  27.0      0   \n887                       Graham, Miss. Margaret Edith  female  19.0      0   \n888           Johnston, Miss. Catherine Helen \"Carrie\"  female   0.0      1   \n889                              Behr, Mr. Karl Howell    male  26.0      0   \n890                                Dooley, Mr. Patrick    male  32.0      0   \n\n     Parch            Ticket     Fare Cabin Embarked  \n0        0         A/5 21171   7.2500     0        S  \n1        0          PC 17599  71.2833   C85        C  \n2        0  STON/O2. 3101282   7.9250     0        S  \n3        0            113803  53.1000  C123        S  \n4        0            373450   8.0500     0        S  \n..     ...               ...      ...   ...      ...  \n886      0            211536  13.0000     0        S  \n887      0            112053  30.0000   B42        S  \n888      2        W./C. 6607  23.4500     0        S  \n889      0            111369  30.0000  C148        C  \n890      0            370376   7.7500     0        Q  \n\n[891 rows x 12 columns]",
            "text/html": "<div>\n<style scoped>\n    .dataframe tbody tr th:only-of-type {\n        vertical-align: middle;\n    }\n\n    .dataframe tbody tr th {\n        vertical-align: top;\n    }\n\n    .dataframe thead th {\n        text-align: right;\n    }\n</style>\n<table border=\"1\" class=\"dataframe\">\n  <thead>\n    <tr style=\"text-align: right;\">\n      <th></th>\n      <th>PassengerId</th>\n      <th>Survived</th>\n      <th>Pclass</th>\n      <th>Name</th>\n      <th>Sex</th>\n      <th>Age</th>\n      <th>SibSp</th>\n      <th>Parch</th>\n      <th>Ticket</th>\n      <th>Fare</th>\n      <th>Cabin</th>\n      <th>Embarked</th>\n    </tr>\n  </thead>\n  <tbody>\n    <tr>\n      <th>0</th>\n      <td>1</td>\n      <td>0</td>\n      <td>3</td>\n      <td>Braund, Mr. Owen Harris</td>\n      <td>male</td>\n      <td>22.0</td>\n      <td>1</td>\n      <td>0</td>\n      <td>A/5 21171</td>\n      <td>7.2500</td>\n      <td>0</td>\n      <td>S</td>\n    </tr>\n    <tr>\n      <th>1</th>\n      <td>2</td>\n      <td>1</td>\n      <td>1</td>\n      <td>Cumings, Mrs. John Bradley (Florence Briggs Th...</td>\n      <td>female</td>\n      <td>38.0</td>\n      <td>1</td>\n      <td>0</td>\n      <td>PC 17599</td>\n      <td>71.2833</td>\n      <td>C85</td>\n      <td>C</td>\n    </tr>\n    <tr>\n      <th>2</th>\n      <td>3</td>\n      <td>1</td>\n      <td>3</td>\n      <td>Heikkinen, Miss. Laina</td>\n      <td>female</td>\n      <td>26.0</td>\n      <td>0</td>\n      <td>0</td>\n      <td>STON/O2. 3101282</td>\n      <td>7.9250</td>\n      <td>0</td>\n      <td>S</td>\n    </tr>\n    <tr>\n      <th>3</th>\n      <td>4</td>\n      <td>1</td>\n      <td>1</td>\n      <td>Futrelle, Mrs. Jacques Heath (Lily May Peel)</td>\n      <td>female</td>\n      <td>35.0</td>\n      <td>1</td>\n      <td>0</td>\n      <td>113803</td>\n      <td>53.1000</td>\n      <td>C123</td>\n      <td>S</td>\n    </tr>\n    <tr>\n      <th>4</th>\n      <td>5</td>\n      <td>0</td>\n      <td>3</td>\n      <td>Allen, Mr. William Henry</td>\n      <td>male</td>\n      <td>35.0</td>\n      <td>0</td>\n      <td>0</td>\n      <td>373450</td>\n      <td>8.0500</td>\n      <td>0</td>\n      <td>S</td>\n    </tr>\n    <tr>\n      <th>...</th>\n      <td>...</td>\n      <td>...</td>\n      <td>...</td>\n      <td>...</td>\n      <td>...</td>\n      <td>...</td>\n      <td>...</td>\n      <td>...</td>\n      <td>...</td>\n      <td>...</td>\n      <td>...</td>\n      <td>...</td>\n    </tr>\n    <tr>\n      <th>886</th>\n      <td>887</td>\n      <td>0</td>\n      <td>2</td>\n      <td>Montvila, Rev. Juozas</td>\n      <td>male</td>\n      <td>27.0</td>\n      <td>0</td>\n      <td>0</td>\n      <td>211536</td>\n      <td>13.0000</td>\n      <td>0</td>\n      <td>S</td>\n    </tr>\n    <tr>\n      <th>887</th>\n      <td>888</td>\n      <td>1</td>\n      <td>1</td>\n      <td>Graham, Miss. Margaret Edith</td>\n      <td>female</td>\n      <td>19.0</td>\n      <td>0</td>\n      <td>0</td>\n      <td>112053</td>\n      <td>30.0000</td>\n      <td>B42</td>\n      <td>S</td>\n    </tr>\n    <tr>\n      <th>888</th>\n      <td>889</td>\n      <td>0</td>\n      <td>3</td>\n      <td>Johnston, Miss. Catherine Helen \"Carrie\"</td>\n      <td>female</td>\n      <td>0.0</td>\n      <td>1</td>\n      <td>2</td>\n      <td>W./C. 6607</td>\n      <td>23.4500</td>\n      <td>0</td>\n      <td>S</td>\n    </tr>\n    <tr>\n      <th>889</th>\n      <td>890</td>\n      <td>1</td>\n      <td>1</td>\n      <td>Behr, Mr. Karl Howell</td>\n      <td>male</td>\n      <td>26.0</td>\n      <td>0</td>\n      <td>0</td>\n      <td>111369</td>\n      <td>30.0000</td>\n      <td>C148</td>\n      <td>C</td>\n    </tr>\n    <tr>\n      <th>890</th>\n      <td>891</td>\n      <td>0</td>\n      <td>3</td>\n      <td>Dooley, Mr. Patrick</td>\n      <td>male</td>\n      <td>32.0</td>\n      <td>0</td>\n      <td>0</td>\n      <td>370376</td>\n      <td>7.7500</td>\n      <td>0</td>\n      <td>Q</td>\n    </tr>\n  </tbody>\n</table>\n<p>891 rows × 12 columns</p>\n</div>"
          },
          "metadata": {}
        }
      ],
      "execution_count": 18
    },
    {
      "id": "0f365423-ed57-4b3e-b0e2-27880cc09f8c",
      "cell_type": "code",
      "source": "data.head(10)",
      "metadata": {
        "trusted": true
      },
      "outputs": [
        {
          "execution_count": 19,
          "output_type": "execute_result",
          "data": {
            "text/plain": "   PassengerId  Survived  Pclass  \\\n0            1         0       3   \n1            2         1       1   \n2            3         1       3   \n3            4         1       1   \n4            5         0       3   \n5            6         0       3   \n6            7         0       1   \n7            8         0       3   \n8            9         1       3   \n9           10         1       2   \n\n                                                Name     Sex   Age  SibSp  \\\n0                            Braund, Mr. Owen Harris    male  22.0      1   \n1  Cumings, Mrs. John Bradley (Florence Briggs Th...  female  38.0      1   \n2                             Heikkinen, Miss. Laina  female  26.0      0   \n3       Futrelle, Mrs. Jacques Heath (Lily May Peel)  female  35.0      1   \n4                           Allen, Mr. William Henry    male  35.0      0   \n5                                   Moran, Mr. James    male   0.0      0   \n6                            McCarthy, Mr. Timothy J    male  54.0      0   \n7                     Palsson, Master. Gosta Leonard    male   2.0      3   \n8  Johnson, Mrs. Oscar W (Elisabeth Vilhelmina Berg)  female  27.0      0   \n9                Nasser, Mrs. Nicholas (Adele Achem)  female  14.0      1   \n\n   Parch            Ticket     Fare Cabin Embarked  \n0      0         A/5 21171   7.2500     0        S  \n1      0          PC 17599  71.2833   C85        C  \n2      0  STON/O2. 3101282   7.9250     0        S  \n3      0            113803  53.1000  C123        S  \n4      0            373450   8.0500     0        S  \n5      0            330877   8.4583     0        Q  \n6      0             17463  51.8625   E46        S  \n7      1            349909  21.0750     0        S  \n8      2            347742  11.1333     0        S  \n9      0            237736  30.0708     0        C  ",
            "text/html": "<div>\n<style scoped>\n    .dataframe tbody tr th:only-of-type {\n        vertical-align: middle;\n    }\n\n    .dataframe tbody tr th {\n        vertical-align: top;\n    }\n\n    .dataframe thead th {\n        text-align: right;\n    }\n</style>\n<table border=\"1\" class=\"dataframe\">\n  <thead>\n    <tr style=\"text-align: right;\">\n      <th></th>\n      <th>PassengerId</th>\n      <th>Survived</th>\n      <th>Pclass</th>\n      <th>Name</th>\n      <th>Sex</th>\n      <th>Age</th>\n      <th>SibSp</th>\n      <th>Parch</th>\n      <th>Ticket</th>\n      <th>Fare</th>\n      <th>Cabin</th>\n      <th>Embarked</th>\n    </tr>\n  </thead>\n  <tbody>\n    <tr>\n      <th>0</th>\n      <td>1</td>\n      <td>0</td>\n      <td>3</td>\n      <td>Braund, Mr. Owen Harris</td>\n      <td>male</td>\n      <td>22.0</td>\n      <td>1</td>\n      <td>0</td>\n      <td>A/5 21171</td>\n      <td>7.2500</td>\n      <td>0</td>\n      <td>S</td>\n    </tr>\n    <tr>\n      <th>1</th>\n      <td>2</td>\n      <td>1</td>\n      <td>1</td>\n      <td>Cumings, Mrs. John Bradley (Florence Briggs Th...</td>\n      <td>female</td>\n      <td>38.0</td>\n      <td>1</td>\n      <td>0</td>\n      <td>PC 17599</td>\n      <td>71.2833</td>\n      <td>C85</td>\n      <td>C</td>\n    </tr>\n    <tr>\n      <th>2</th>\n      <td>3</td>\n      <td>1</td>\n      <td>3</td>\n      <td>Heikkinen, Miss. Laina</td>\n      <td>female</td>\n      <td>26.0</td>\n      <td>0</td>\n      <td>0</td>\n      <td>STON/O2. 3101282</td>\n      <td>7.9250</td>\n      <td>0</td>\n      <td>S</td>\n    </tr>\n    <tr>\n      <th>3</th>\n      <td>4</td>\n      <td>1</td>\n      <td>1</td>\n      <td>Futrelle, Mrs. Jacques Heath (Lily May Peel)</td>\n      <td>female</td>\n      <td>35.0</td>\n      <td>1</td>\n      <td>0</td>\n      <td>113803</td>\n      <td>53.1000</td>\n      <td>C123</td>\n      <td>S</td>\n    </tr>\n    <tr>\n      <th>4</th>\n      <td>5</td>\n      <td>0</td>\n      <td>3</td>\n      <td>Allen, Mr. William Henry</td>\n      <td>male</td>\n      <td>35.0</td>\n      <td>0</td>\n      <td>0</td>\n      <td>373450</td>\n      <td>8.0500</td>\n      <td>0</td>\n      <td>S</td>\n    </tr>\n    <tr>\n      <th>5</th>\n      <td>6</td>\n      <td>0</td>\n      <td>3</td>\n      <td>Moran, Mr. James</td>\n      <td>male</td>\n      <td>0.0</td>\n      <td>0</td>\n      <td>0</td>\n      <td>330877</td>\n      <td>8.4583</td>\n      <td>0</td>\n      <td>Q</td>\n    </tr>\n    <tr>\n      <th>6</th>\n      <td>7</td>\n      <td>0</td>\n      <td>1</td>\n      <td>McCarthy, Mr. Timothy J</td>\n      <td>male</td>\n      <td>54.0</td>\n      <td>0</td>\n      <td>0</td>\n      <td>17463</td>\n      <td>51.8625</td>\n      <td>E46</td>\n      <td>S</td>\n    </tr>\n    <tr>\n      <th>7</th>\n      <td>8</td>\n      <td>0</td>\n      <td>3</td>\n      <td>Palsson, Master. Gosta Leonard</td>\n      <td>male</td>\n      <td>2.0</td>\n      <td>3</td>\n      <td>1</td>\n      <td>349909</td>\n      <td>21.0750</td>\n      <td>0</td>\n      <td>S</td>\n    </tr>\n    <tr>\n      <th>8</th>\n      <td>9</td>\n      <td>1</td>\n      <td>3</td>\n      <td>Johnson, Mrs. Oscar W (Elisabeth Vilhelmina Berg)</td>\n      <td>female</td>\n      <td>27.0</td>\n      <td>0</td>\n      <td>2</td>\n      <td>347742</td>\n      <td>11.1333</td>\n      <td>0</td>\n      <td>S</td>\n    </tr>\n    <tr>\n      <th>9</th>\n      <td>10</td>\n      <td>1</td>\n      <td>2</td>\n      <td>Nasser, Mrs. Nicholas (Adele Achem)</td>\n      <td>female</td>\n      <td>14.0</td>\n      <td>1</td>\n      <td>0</td>\n      <td>237736</td>\n      <td>30.0708</td>\n      <td>0</td>\n      <td>C</td>\n    </tr>\n  </tbody>\n</table>\n</div>"
          },
          "metadata": {}
        }
      ],
      "execution_count": 19
    },
    {
      "id": "a41f8992-6465-429b-a2d3-2652325ba782",
      "cell_type": "code",
      "source": "data.loc[data['Age'] > 30]",
      "metadata": {
        "trusted": true
      },
      "outputs": [
        {
          "execution_count": 20,
          "output_type": "execute_result",
          "data": {
            "text/plain": "     PassengerId  Survived  Pclass  \\\n1              2         1       1   \n3              4         1       1   \n4              5         0       3   \n6              7         0       1   \n11            12         1       1   \n..           ...       ...     ...   \n873          874         0       3   \n879          880         1       1   \n881          882         0       3   \n885          886         0       3   \n890          891         0       3   \n\n                                                  Name     Sex   Age  SibSp  \\\n1    Cumings, Mrs. John Bradley (Florence Briggs Th...  female  38.0      1   \n3         Futrelle, Mrs. Jacques Heath (Lily May Peel)  female  35.0      1   \n4                             Allen, Mr. William Henry    male  35.0      0   \n6                              McCarthy, Mr. Timothy J    male  54.0      0   \n11                            Bonnell, Miss. Elizabeth  female  58.0      0   \n..                                                 ...     ...   ...    ...   \n873                        Vander Cruyssen, Mr. Victor    male  47.0      0   \n879      Potter, Mrs. Thomas Jr (Lily Alexenia Wilson)  female  56.0      0   \n881                                 Markun, Mr. Johann    male  33.0      0   \n885               Rice, Mrs. William (Margaret Norton)  female  39.0      0   \n890                                Dooley, Mr. Patrick    male  32.0      0   \n\n     Parch    Ticket     Fare Cabin Embarked  \n1        0  PC 17599  71.2833   C85        C  \n3        0    113803  53.1000  C123        S  \n4        0    373450   8.0500     0        S  \n6        0     17463  51.8625   E46        S  \n11       0    113783  26.5500  C103        S  \n..     ...       ...      ...   ...      ...  \n873      0    345765   9.0000     0        S  \n879      1     11767  83.1583   C50        C  \n881      0    349257   7.8958     0        S  \n885      5    382652  29.1250     0        Q  \n890      0    370376   7.7500     0        Q  \n\n[305 rows x 12 columns]",
            "text/html": "<div>\n<style scoped>\n    .dataframe tbody tr th:only-of-type {\n        vertical-align: middle;\n    }\n\n    .dataframe tbody tr th {\n        vertical-align: top;\n    }\n\n    .dataframe thead th {\n        text-align: right;\n    }\n</style>\n<table border=\"1\" class=\"dataframe\">\n  <thead>\n    <tr style=\"text-align: right;\">\n      <th></th>\n      <th>PassengerId</th>\n      <th>Survived</th>\n      <th>Pclass</th>\n      <th>Name</th>\n      <th>Sex</th>\n      <th>Age</th>\n      <th>SibSp</th>\n      <th>Parch</th>\n      <th>Ticket</th>\n      <th>Fare</th>\n      <th>Cabin</th>\n      <th>Embarked</th>\n    </tr>\n  </thead>\n  <tbody>\n    <tr>\n      <th>1</th>\n      <td>2</td>\n      <td>1</td>\n      <td>1</td>\n      <td>Cumings, Mrs. John Bradley (Florence Briggs Th...</td>\n      <td>female</td>\n      <td>38.0</td>\n      <td>1</td>\n      <td>0</td>\n      <td>PC 17599</td>\n      <td>71.2833</td>\n      <td>C85</td>\n      <td>C</td>\n    </tr>\n    <tr>\n      <th>3</th>\n      <td>4</td>\n      <td>1</td>\n      <td>1</td>\n      <td>Futrelle, Mrs. Jacques Heath (Lily May Peel)</td>\n      <td>female</td>\n      <td>35.0</td>\n      <td>1</td>\n      <td>0</td>\n      <td>113803</td>\n      <td>53.1000</td>\n      <td>C123</td>\n      <td>S</td>\n    </tr>\n    <tr>\n      <th>4</th>\n      <td>5</td>\n      <td>0</td>\n      <td>3</td>\n      <td>Allen, Mr. William Henry</td>\n      <td>male</td>\n      <td>35.0</td>\n      <td>0</td>\n      <td>0</td>\n      <td>373450</td>\n      <td>8.0500</td>\n      <td>0</td>\n      <td>S</td>\n    </tr>\n    <tr>\n      <th>6</th>\n      <td>7</td>\n      <td>0</td>\n      <td>1</td>\n      <td>McCarthy, Mr. Timothy J</td>\n      <td>male</td>\n      <td>54.0</td>\n      <td>0</td>\n      <td>0</td>\n      <td>17463</td>\n      <td>51.8625</td>\n      <td>E46</td>\n      <td>S</td>\n    </tr>\n    <tr>\n      <th>11</th>\n      <td>12</td>\n      <td>1</td>\n      <td>1</td>\n      <td>Bonnell, Miss. Elizabeth</td>\n      <td>female</td>\n      <td>58.0</td>\n      <td>0</td>\n      <td>0</td>\n      <td>113783</td>\n      <td>26.5500</td>\n      <td>C103</td>\n      <td>S</td>\n    </tr>\n    <tr>\n      <th>...</th>\n      <td>...</td>\n      <td>...</td>\n      <td>...</td>\n      <td>...</td>\n      <td>...</td>\n      <td>...</td>\n      <td>...</td>\n      <td>...</td>\n      <td>...</td>\n      <td>...</td>\n      <td>...</td>\n      <td>...</td>\n    </tr>\n    <tr>\n      <th>873</th>\n      <td>874</td>\n      <td>0</td>\n      <td>3</td>\n      <td>Vander Cruyssen, Mr. Victor</td>\n      <td>male</td>\n      <td>47.0</td>\n      <td>0</td>\n      <td>0</td>\n      <td>345765</td>\n      <td>9.0000</td>\n      <td>0</td>\n      <td>S</td>\n    </tr>\n    <tr>\n      <th>879</th>\n      <td>880</td>\n      <td>1</td>\n      <td>1</td>\n      <td>Potter, Mrs. Thomas Jr (Lily Alexenia Wilson)</td>\n      <td>female</td>\n      <td>56.0</td>\n      <td>0</td>\n      <td>1</td>\n      <td>11767</td>\n      <td>83.1583</td>\n      <td>C50</td>\n      <td>C</td>\n    </tr>\n    <tr>\n      <th>881</th>\n      <td>882</td>\n      <td>0</td>\n      <td>3</td>\n      <td>Markun, Mr. Johann</td>\n      <td>male</td>\n      <td>33.0</td>\n      <td>0</td>\n      <td>0</td>\n      <td>349257</td>\n      <td>7.8958</td>\n      <td>0</td>\n      <td>S</td>\n    </tr>\n    <tr>\n      <th>885</th>\n      <td>886</td>\n      <td>0</td>\n      <td>3</td>\n      <td>Rice, Mrs. William (Margaret Norton)</td>\n      <td>female</td>\n      <td>39.0</td>\n      <td>0</td>\n      <td>5</td>\n      <td>382652</td>\n      <td>29.1250</td>\n      <td>0</td>\n      <td>Q</td>\n    </tr>\n    <tr>\n      <th>890</th>\n      <td>891</td>\n      <td>0</td>\n      <td>3</td>\n      <td>Dooley, Mr. Patrick</td>\n      <td>male</td>\n      <td>32.0</td>\n      <td>0</td>\n      <td>0</td>\n      <td>370376</td>\n      <td>7.7500</td>\n      <td>0</td>\n      <td>Q</td>\n    </tr>\n  </tbody>\n</table>\n<p>305 rows × 12 columns</p>\n</div>"
          },
          "metadata": {}
        }
      ],
      "execution_count": 20
    },
    {
      "id": "56c099f1-494c-4336-bae9-b018bb3cd9b4",
      "cell_type": "code",
      "source": "data['Fare'].sort_values(ascending=False)",
      "metadata": {
        "trusted": true
      },
      "outputs": [
        {
          "execution_count": 21,
          "output_type": "execute_result",
          "data": {
            "text/plain": "258    512.3292\n737    512.3292\n679    512.3292\n88     263.0000\n27     263.0000\n         ...   \n633      0.0000\n413      0.0000\n822      0.0000\n732      0.0000\n674      0.0000\nName: Fare, Length: 891, dtype: float64"
          },
          "metadata": {}
        }
      ],
      "execution_count": 21
    },
    {
      "id": "211bd55b-20d6-4982-b2f2-36ebeec41d4c",
      "cell_type": "code",
      "source": "data.groupby('Pclass')['Age'].mean() ",
      "metadata": {
        "trusted": true
      },
      "outputs": [
        {
          "execution_count": 22,
          "output_type": "execute_result",
          "data": {
            "text/plain": "Pclass\n1    32.923241\n2    28.091467\n3    18.177026\nName: Age, dtype: float64"
          },
          "metadata": {}
        }
      ],
      "execution_count": 22
    },
    {
      "id": "8f8dc7a7-e599-48c3-9152-ea9e6554e571",
      "cell_type": "code",
      "source": "",
      "metadata": {
        "trusted": true
      },
      "outputs": [],
      "execution_count": null
    }
  ]
}